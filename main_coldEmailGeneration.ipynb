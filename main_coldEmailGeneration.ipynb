{
 "cells": [
  {
   "cell_type": "code",
   "execution_count": 45,
   "metadata": {},
   "outputs": [],
   "source": [
    "import pandas as pd"
   ]
  },
  {
   "cell_type": "code",
   "execution_count": 46,
   "metadata": {},
   "outputs": [],
   "source": [
    "df=pd.read_csv('my_portfolio.csv')"
   ]
  },
  {
   "cell_type": "code",
   "execution_count": 47,
   "metadata": {},
   "outputs": [
    {
     "data": {
      "text/html": [
       "<div>\n",
       "<style scoped>\n",
       "    .dataframe tbody tr th:only-of-type {\n",
       "        vertical-align: middle;\n",
       "    }\n",
       "\n",
       "    .dataframe tbody tr th {\n",
       "        vertical-align: top;\n",
       "    }\n",
       "\n",
       "    .dataframe thead th {\n",
       "        text-align: right;\n",
       "    }\n",
       "</style>\n",
       "<table border=\"1\" class=\"dataframe\">\n",
       "  <thead>\n",
       "    <tr style=\"text-align: right;\">\n",
       "      <th></th>\n",
       "      <th>Techstack</th>\n",
       "      <th>Links</th>\n",
       "    </tr>\n",
       "  </thead>\n",
       "  <tbody>\n",
       "    <tr>\n",
       "      <th>0</th>\n",
       "      <td>React, Node.js, MongoDB</td>\n",
       "      <td>https://example.com/react-portfolio</td>\n",
       "    </tr>\n",
       "    <tr>\n",
       "      <th>1</th>\n",
       "      <td>Angular,.NET, SQL Server</td>\n",
       "      <td>https://example.com/angular-portfolio</td>\n",
       "    </tr>\n",
       "  </tbody>\n",
       "</table>\n",
       "</div>"
      ],
      "text/plain": [
       "                  Techstack                                  Links\n",
       "0   React, Node.js, MongoDB    https://example.com/react-portfolio\n",
       "1  Angular,.NET, SQL Server  https://example.com/angular-portfolio"
      ]
     },
     "execution_count": 47,
     "metadata": {},
     "output_type": "execute_result"
    }
   ],
   "source": [
    "df[:2]"
   ]
  },
  {
   "cell_type": "code",
   "execution_count": 48,
   "metadata": {},
   "outputs": [],
   "source": [
    "from langchain_community.document_loaders import WebBaseLoader\n",
    "\n",
    "loader = WebBaseLoader(\"https://jobs.nike.com/job/R-43843?from=job%20search%20funnel\")"
   ]
  },
  {
   "cell_type": "code",
   "execution_count": 49,
   "metadata": {},
   "outputs": [
    {
     "data": {
      "text/plain": [
       "langchain_community.document_loaders.web_base.WebBaseLoader"
      ]
     },
     "execution_count": 49,
     "metadata": {},
     "output_type": "execute_result"
    }
   ],
   "source": [
    "type(loader)"
   ]
  },
  {
   "cell_type": "code",
   "execution_count": 50,
   "metadata": {},
   "outputs": [
    {
     "name": "stdout",
     "output_type": "stream",
     "text": [
      "Apply for Lead Engineer, Innovation\n",
      "\n",
      "Search JobsSkip navigationSearch JobsNIKE, INC. JOBSContract JobsJoin The Talent CommunityLife @ NikeOverviewBenefitsBrandsOverviewJordanConverseTeamsOverviewAdministrative SupportAdvanced InnovationAir Manufacturing InnovationAviationCommunicationsCustomer ServiceDesignDigitalFacilitiesFinance & AccountingGovernment & Public AffairsHuman ResourcesInsights & AnalyticsLegalManufacturing & EngineeringMarketingMerchandisingPlanningPrivacyProcurementProduct Creation, Development & ManagementRetail CorporateRetail StoresSalesSocial & Community ImpactSports MarketingStrategic PlanningSupply Chain, Distribution & LogisticsSustainabilityTechnologyLocationsOverviewNike WHQNike New York HQEHQ: Hilversum, The NetherlandsELC: Laakdal, BelgiumGreater China HQDiversity, Equity & InclusionOverviewMilitary InclusionDisability InclusionIndigenous InclusionInternshipsProduct Creation, Development & ManagementLead Engineer, InnovationBusan, South KoreaBecome a Part of the NIKE, Inc. TeamNIKE, Inc. does more than outfit the world’s best athletes. It is a place to explore potential, obliterate boundaries and push out the edges of what can be. The company looks for people who can grow, think, dream and create. Its culture thrives by embracing diversity and rewarding imagination. The brand seeks achievers, leaders and visionaries. At NIKE, Inc. it’s about each person bringing skills and passion to a challenging and constantly evolving game.The first spark of a product idea sets the NIKE, Inc. Product team into motion. The team of developers, testers, engineers, designers and managers obsess over Nike’s iconic silhouettes and create groundbreaking new styles. They collaborate, ideate and refine products’ construction, fit and materials. They maintain a keen understanding of consumer and market trends. They skillfully operate at the intersection of buyer needs, technical feasibility and business objectives. And they work lockstep with Merchandising, Design, Manufacturing and others to produce the final result: products that reflect the soul of sport and inspire athletes to reach new levels of performance.Innovation is oxygen for NIKE, Inc., and the company depends on its talented, global workforce to breathe originality and curiosity into everything they do. The Nike Advanced Innovation team strives for lighter, faster, bigger, smarter, smaller, more efficient, more sustainable and more personal. They imagine, research, analyze and invent the next industry-changing technology to advance athletic performance. In roles that span research, design, materials and manufacturing, the Advanced Innovation team looks to the future and focuses on making the seemingly impossible, possible.WHO YOU WILL WORK WITHThe candidate will report directly to the Korea Innovation Director of Engineering, located in Busan, Korea. They will work alongside Innovation Project Managers and individual contributors with expertise in various engineering disciplines, including Product, Tooling, Pattern, Mechanical, Electrical, Chemical, Costing, Sustainability, Knit Engineering, Robotics, Process Optimization, and Product Development. Primarily, the candidate will collaborate with Nike and its manufacturing partner teams in Korea, while also having opportunities to work with teams across Asia and the USA.WHO WE ARE LOOKING FORNIKE, Inc. is searching for a curious and driven Lead Engineer, Innovation to join their team in Busan, South Korea. The ideal candidate possesses extensive experience and a thorough understanding of Footwear Development & Manufacturing processes. They should also be adept at thinking outside the box to develop innovative solutions that streamline manufacturing and enhance performance and footwear fit. A self-starter, flexible thinker, and effective communicator, the candidate must be comfortable working cross-functionally and capable of influencing diverse personalities and perspectives. These skills are essential for collaborating across the Innovation team and various functions within Nike's matrixed organization. Proficiency in technical writing, an engineering mindset, data-driven decision-making, creativity, and the ability to challenge conventional methods are highly valued.Bachelor's degree in an engineering field with a minimum of 6 years of experience in footwear product engineering, manufacturing, or development.Extensive knowledge of footwear lasts, patterns, tooling, and various construction methods.Strong organizational skills with the ability to prioritize and manage multiple engineering workstreams simultaneously.Proficient in interpreting technical drawings, sketches, and digital files in both 2D and 3D formats.Excellent storytelling and English communication skills, both written and verbal.WHAT YOU WILL WORK ONAs a Lead Innovation Engineer, you will be responsible to:Drive product and process excellence from initial idea to pilot.Lead Tech Package reviews (tooling and pattern) for each sample build round.Drive adoption of engineering best practices across NXT and PIC engineering teams. Design, plan, and execute engineering trials, and analyze results to determine necessary actions for achieving program targets, including performance & fit, cost, sustainability, and manufacturability.Collaborate with product development and functional engineering teams to commercialize product innovations.Collaborate with innovators and visual communicators to create comprehensive technical documentation.Lead high-profile engineering initiatives.NIKE, Inc. is a growth company that looks for team members to grow with it. Nike offers a generous total rewards package, casual work environment, a diverse and inclusive culture, and an electric atmosphere for professional development. No matter the location, or the role, every Nike employee shares one galvanizing mission: To bring inspiration and innovation to every athlete* in the world.NIKE, Inc. is committed to employing a diverse workforce. Qualified applicants will receive consideration without regard to race, color, religion, sex, national origin, age, sexual orientation, gender identity, gender expression, veteran status, or disability.How We HireAt NIKE, Inc. we promise to provide a premium, inclusive, compelling and authentic candidate experience. Delivering on this promise means we allow you to be at your best — and to do that, you need to understand how the hiring process works. Transparency is key.\n",
      "\n",
      "* This overview explains our hiring process for corporate roles. Note there may be different hiring steps involved for non-corporate roles.Start nowBenefitsWhether it’s transportation or financial health, we continually invest in our employees to help them achieve greatness — inside and outside of work. All who work here should be able to realize their full potential.Employee Assistance ProgramHolidaysMedical PlanPaid Time Off (PTO)Product DiscountsLearn moreFIND A STOREBECOME A MEMBERSIGN UP FOR EMAILSEND US FEEDBACKSTUDENT DISCOUNTSGET HELPGET HELPOrder StatusDeliveryReturnsPayment OptionsContact Us On Nike.com InquiriesContact Us On All Other InquiriesABOUT NIKEABOUT NIKENewsCareersInvestorsSustainabilityIndia© 2024 Nike, Inc. All Rights ReservedGuidesNike AdaptNike Air MaxNike FlyleatherNike PegasusNike Zoom FlyNike AirNike FlyEaseNike FreeNike ReactNike ZoomXNike Air Force 1Nike FlyknitNike JoyrideNike VaporflyTerms of SaleTerms of UseNike Privacy Policy\n"
     ]
    }
   ],
   "source": [
    "page_data=loader.load().pop().page_content\n",
    "print(page_data)"
   ]
  },
  {
   "cell_type": "code",
   "execution_count": 51,
   "metadata": {},
   "outputs": [],
   "source": [
    "from langchain_groq import ChatGroq\n",
    "import os\n",
    "os.environ['GROQ_API_KEY'] = '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'\n",
    "\n",
    "llm = ChatGroq(\n",
    "    model=\"llama-3.1-70b-versatile\",\n",
    "    temperature=0,\n",
    "    max_tokens=None,\n",
    "    timeout=None,\n",
    "    max_retries=2,\n",
    ")"
   ]
  },
  {
   "cell_type": "code",
   "execution_count": 52,
   "metadata": {},
   "outputs": [
    {
     "name": "stdout",
     "output_type": "stream",
     "text": [
      "content='```json\\n{\\n  \"role\": \"Lead Engineer, Innovation\",\\n  \"experience\": \"Minimum of 6 years of experience in footwear product engineering, manufacturing, or development\",\\n  \"skills\": [\\n    \"Extensive knowledge of footwear lasts, patterns, tooling, and various construction methods\",\\n    \"Strong organizational skills with the ability to prioritize and manage multiple engineering workstreams simultaneously\",\\n    \"Proficient in interpreting technical drawings, sketches, and digital files in both 2D and 3D formats\",\\n    \"Excellent storytelling and English communication skills, both written and verbal\",\\n    \"Bachelor\\'s degree in an engineering field\"\\n  ],\\n  \"description\": \"Drive product and process excellence from initial idea to pilot. Lead Tech Package reviews (tooling and pattern) for each sample build round. Drive adoption of engineering best practices across NXT and PIC engineering teams. Design, plan, and execute engineering trials, and analyze results to determine necessary actions for achieving program targets, including performance & fit, cost, sustainability, and manufacturability. Collaborate with product development and functional engineering teams to commercialize product innovations. Collaborate with innovators and visual communicators to create comprehensive technical documentation. Lead high-profile engineering initiatives.\"\\n}\\n```' additional_kwargs={} response_metadata={'token_usage': {'completion_tokens': 248, 'prompt_tokens': 1503, 'total_tokens': 1751, 'completion_time': 0.992, 'prompt_time': 0.275520366, 'queue_time': 0.17423912199999997, 'total_time': 1.267520366}, 'model_name': 'llama-3.1-70b-versatile', 'system_fingerprint': 'fp_b6828be2c9', 'finish_reason': 'stop', 'logprobs': None} id='run-546baf4e-5e67-4c54-b38b-42b2241b63c2-0' usage_metadata={'input_tokens': 1503, 'output_tokens': 248, 'total_tokens': 1751}\n"
     ]
    }
   ],
   "source": [
    "from langchain_core.prompts import PromptTemplate\n",
    "\n",
    "prompt=PromptTemplate.from_template(\n",
    "    \"\"\" Scrapted text from website:\n",
    "    {page_data} \n",
    "    Instruction:\n",
    "    The scraped text is from the career's page of a website.\n",
    "    Your job is to extract the job postings and return them in JSON format containing the \n",
    "    following keys: `role`, `experience`, `skills` and `description`.\n",
    "    Only return the valid JSON.\n",
    "    ### VALID JSON (NO PREAMBLE):\"\"\"\n",
    ")\n",
    "\n",
    "prompt2=PromptTemplate.from_template(\n",
    "    \"\"\" Write the gist of the {page_data} in one line.\"\"\"\n",
    ")\n",
    "\n",
    "llm_chain=prompt|llm\n",
    "\n",
    "response=llm_chain.invoke(input={\"page_data\":page_data})\n",
    "print(response)"
   ]
  },
  {
   "cell_type": "code",
   "execution_count": 53,
   "metadata": {},
   "outputs": [
    {
     "data": {
      "text/plain": [
       "{'role': 'Lead Engineer, Innovation',\n",
       " 'experience': 'Minimum of 6 years of experience in footwear product engineering, manufacturing, or development',\n",
       " 'skills': ['Extensive knowledge of footwear lasts, patterns, tooling, and various construction methods',\n",
       "  'Strong organizational skills with the ability to prioritize and manage multiple engineering workstreams simultaneously',\n",
       "  'Proficient in interpreting technical drawings, sketches, and digital files in both 2D and 3D formats',\n",
       "  'Excellent storytelling and English communication skills, both written and verbal',\n",
       "  \"Bachelor's degree in an engineering field\"],\n",
       " 'description': 'Drive product and process excellence from initial idea to pilot. Lead Tech Package reviews (tooling and pattern) for each sample build round. Drive adoption of engineering best practices across NXT and PIC engineering teams. Design, plan, and execute engineering trials, and analyze results to determine necessary actions for achieving program targets, including performance & fit, cost, sustainability, and manufacturability. Collaborate with product development and functional engineering teams to commercialize product innovations. Collaborate with innovators and visual communicators to create comprehensive technical documentation. Lead high-profile engineering initiatives.'}"
      ]
     },
     "execution_count": 53,
     "metadata": {},
     "output_type": "execute_result"
    }
   ],
   "source": [
    "from langchain_core.output_parsers import JsonOutputParser\n",
    "json_parser=JsonOutputParser()\n",
    "json_output=json_parser.parse(response.content)\n",
    "json_output"
   ]
  },
  {
   "cell_type": "code",
   "execution_count": 56,
   "metadata": {},
   "outputs": [
    {
     "data": {
      "text/html": [
       "<div>\n",
       "<style scoped>\n",
       "    .dataframe tbody tr th:only-of-type {\n",
       "        vertical-align: middle;\n",
       "    }\n",
       "\n",
       "    .dataframe tbody tr th {\n",
       "        vertical-align: top;\n",
       "    }\n",
       "\n",
       "    .dataframe thead th {\n",
       "        text-align: right;\n",
       "    }\n",
       "</style>\n",
       "<table border=\"1\" class=\"dataframe\">\n",
       "  <thead>\n",
       "    <tr style=\"text-align: right;\">\n",
       "      <th></th>\n",
       "      <th>Techstack</th>\n",
       "      <th>Links</th>\n",
       "    </tr>\n",
       "  </thead>\n",
       "  <tbody>\n",
       "    <tr>\n",
       "      <th>0</th>\n",
       "      <td>React, Node.js, MongoDB</td>\n",
       "      <td>https://example.com/react-portfolio</td>\n",
       "    </tr>\n",
       "    <tr>\n",
       "      <th>1</th>\n",
       "      <td>Angular,.NET, SQL Server</td>\n",
       "      <td>https://example.com/angular-portfolio</td>\n",
       "    </tr>\n",
       "    <tr>\n",
       "      <th>2</th>\n",
       "      <td>Vue.js, Ruby on Rails, PostgreSQL</td>\n",
       "      <td>https://example.com/vue-portfolio</td>\n",
       "    </tr>\n",
       "    <tr>\n",
       "      <th>3</th>\n",
       "      <td>Python, Django, MySQL</td>\n",
       "      <td>https://example.com/python-portfolio</td>\n",
       "    </tr>\n",
       "    <tr>\n",
       "      <th>4</th>\n",
       "      <td>Java, Spring Boot, Oracle</td>\n",
       "      <td>https://example.com/java-portfolio</td>\n",
       "    </tr>\n",
       "  </tbody>\n",
       "</table>\n",
       "</div>"
      ],
      "text/plain": [
       "                           Techstack                                  Links\n",
       "0            React, Node.js, MongoDB    https://example.com/react-portfolio\n",
       "1           Angular,.NET, SQL Server  https://example.com/angular-portfolio\n",
       "2  Vue.js, Ruby on Rails, PostgreSQL      https://example.com/vue-portfolio\n",
       "3              Python, Django, MySQL   https://example.com/python-portfolio\n",
       "4          Java, Spring Boot, Oracle     https://example.com/java-portfolio"
      ]
     },
     "execution_count": 56,
     "metadata": {},
     "output_type": "execute_result"
    }
   ],
   "source": [
    "import pandas as pd\n",
    "\n",
    "df=pd.read_csv('my_portfolio.csv')\n",
    "df[:5]"
   ]
  },
  {
   "cell_type": "code",
   "execution_count": 74,
   "metadata": {},
   "outputs": [
    {
     "name": "stdout",
     "output_type": "stream",
     "text": [
      "React, Node.js, MongoDB\n",
      "https://example.com/react-portfolio\n",
      "Angular,.NET, SQL Server\n",
      "https://example.com/angular-portfolio\n",
      "Vue.js, Ruby on Rails, PostgreSQL\n",
      "https://example.com/vue-portfolio\n",
      "Python, Django, MySQL\n",
      "https://example.com/python-portfolio\n",
      "Java, Spring Boot, Oracle\n",
      "https://example.com/java-portfolio\n",
      "Flutter, Firebase, GraphQL\n",
      "https://example.com/flutter-portfolio\n",
      "WordPress, PHP, MySQL\n",
      "https://example.com/wordpress-portfolio\n",
      "Magento, PHP, MySQL\n",
      "https://example.com/magento-portfolio\n",
      "React Native, Node.js, MongoDB\n",
      "https://example.com/react-native-portfolio\n",
      "iOS, Swift, Core Data\n",
      "https://example.com/ios-portfolio\n",
      "Android, Java, Room Persistence\n",
      "https://example.com/android-portfolio\n",
      "Kotlin, Android, Firebase\n",
      "https://example.com/kotlin-android-portfolio\n",
      "Android TV, Kotlin, Android NDK\n",
      "https://example.com/android-tv-portfolio\n",
      "iOS, Swift, ARKit\n",
      "https://example.com/ios-ar-portfolio\n",
      "Cross-platform, Xamarin, Azure\n",
      "https://example.com/xamarin-portfolio\n",
      "Backend, Kotlin, Spring Boot\n",
      "https://example.com/kotlin-backend-portfolio\n",
      "Frontend, TypeScript, Angular\n",
      "https://example.com/typescript-frontend-portfolio\n",
      "Full-stack, JavaScript, Express.js\n",
      "https://example.com/full-stack-js-portfolio\n",
      "Machine Learning, Python, TensorFlow\n",
      "https://example.com/ml-python-portfolio\n",
      "DevOps, Jenkins, Docker\n",
      "https://example.com/devops-portfolio\n"
     ]
    }
   ],
   "source": [
    "for f,s in df.iterrows():\n",
    "    print(s[\"Techstack\"])\n",
    "    print(s[\"Links\"])"
   ]
  },
  {
   "cell_type": "code",
   "execution_count": 76,
   "metadata": {},
   "outputs": [],
   "source": [
    "import uuid\n",
    "import chromadb\n",
    "\n",
    "client=chromadb.PersistentClient('vectorstore')\n",
    "collection=client.get_or_create_collection(name=\"portfolio\")\n",
    "\n",
    "if not collection.count():\n",
    "    for first,second in df.iterrows():\n",
    "        collection.add(documents=second[\"Techstack\"],\n",
    "                       metadatas={\"links\":second[\"Links\"]},\n",
    "                       ids=[str(uuid.uuid4())]\n",
    "                       )\n"
   ]
  },
  {
   "cell_type": "code",
   "execution_count": 77,
   "metadata": {},
   "outputs": [
    {
     "data": {
      "text/plain": [
       "Collection(name=portfolio)"
      ]
     },
     "execution_count": 77,
     "metadata": {},
     "output_type": "execute_result"
    }
   ],
   "source": [
    "collection"
   ]
  },
  {
   "cell_type": "code",
   "execution_count": 78,
   "metadata": {},
   "outputs": [
    {
     "data": {
      "text/plain": [
       "[[{'links': 'https://example.com/ml-python-portfolio'},\n",
       "  {'links': 'https://example.com/python-portfolio'}]]"
      ]
     },
     "execution_count": 78,
     "metadata": {},
     "output_type": "execute_result"
    }
   ],
   "source": [
    "collection.query(query_texts=[\"python\"],n_results=2).get('metadatas',[])"
   ]
  },
  {
   "cell_type": "code",
   "execution_count": 81,
   "metadata": {},
   "outputs": [
    {
     "data": {
      "text/plain": [
       "['Extensive knowledge of footwear lasts, patterns, tooling, and various construction methods',\n",
       " 'Strong organizational skills with the ability to prioritize and manage multiple engineering workstreams simultaneously',\n",
       " 'Proficient in interpreting technical drawings, sketches, and digital files in both 2D and 3D formats',\n",
       " 'Excellent storytelling and English communication skills, both written and verbal',\n",
       " \"Bachelor's degree in an engineering field\"]"
      ]
     },
     "execution_count": 81,
     "metadata": {},
     "output_type": "execute_result"
    }
   ],
   "source": [
    "json_output['skills']"
   ]
  },
  {
   "cell_type": "code",
   "execution_count": 86,
   "metadata": {},
   "outputs": [
    {
     "data": {
      "text/plain": [
       "[[{'links': 'https://example.com/ml-python-portfolio'},\n",
       "  {'links': 'https://example.com/kotlin-backend-portfolio'}],\n",
       " [{'links': 'https://example.com/devops-portfolio'},\n",
       "  {'links': 'https://example.com/android-portfolio'}],\n",
       " [{'links': 'https://example.com/ml-python-portfolio'},\n",
       "  {'links': 'https://example.com/ios-ar-portfolio'}],\n",
       " [{'links': 'https://example.com/ios-ar-portfolio'},\n",
       "  {'links': 'https://example.com/python-portfolio'}],\n",
       " [{'links': 'https://example.com/ml-python-portfolio'},\n",
       "  {'links': 'https://example.com/devops-portfolio'}]]"
      ]
     },
     "execution_count": 86,
     "metadata": {},
     "output_type": "execute_result"
    }
   ],
   "source": [
    "links=collection.query(query_texts=json_output['skills'],n_results=2).get('metadatas',[])\n",
    "links"
   ]
  },
  {
   "cell_type": "code",
   "execution_count": 87,
   "metadata": {},
   "outputs": [
    {
     "data": {
      "text/plain": [
       "{'role': 'Lead Engineer, Innovation',\n",
       " 'experience': 'Minimum of 6 years of experience in footwear product engineering, manufacturing, or development',\n",
       " 'skills': ['Extensive knowledge of footwear lasts, patterns, tooling, and various construction methods',\n",
       "  'Strong organizational skills with the ability to prioritize and manage multiple engineering workstreams simultaneously',\n",
       "  'Proficient in interpreting technical drawings, sketches, and digital files in both 2D and 3D formats',\n",
       "  'Excellent storytelling and English communication skills, both written and verbal',\n",
       "  \"Bachelor's degree in an engineering field\"],\n",
       " 'description': 'Drive product and process excellence from initial idea to pilot. Lead Tech Package reviews (tooling and pattern) for each sample build round. Drive adoption of engineering best practices across NXT and PIC engineering teams. Design, plan, and execute engineering trials, and analyze results to determine necessary actions for achieving program targets, including performance & fit, cost, sustainability, and manufacturability. Collaborate with product development and functional engineering teams to commercialize product innovations. Collaborate with innovators and visual communicators to create comprehensive technical documentation. Lead high-profile engineering initiatives.'}"
      ]
     },
     "execution_count": 87,
     "metadata": {},
     "output_type": "execute_result"
    }
   ],
   "source": [
    "json_output"
   ]
  },
  {
   "cell_type": "code",
   "execution_count": 94,
   "metadata": {},
   "outputs": [
    {
     "name": "stdout",
     "output_type": "stream",
     "text": [
      "Subject: Unlocking Innovation and Efficiency in Footwear Product Engineering with AtliQ\n",
      "\n",
      "Dear Hiring Manager,\n",
      "\n",
      "I came across the Lead Engineer, Innovation role at your esteemed organization and was impressed by the emphasis on driving product and process excellence. As a business development executive at AtliQ, I'd like to introduce our company's capabilities in facilitating the seamless integration of business processes through automated tools.\n",
      "\n",
      "At AtliQ, we've empowered numerous enterprises with tailored solutions, fostering scalability, process optimization, cost reduction, and heightened overall efficiency. Our expertise in software development, AI, and DevOps can be leveraged to support your footwear product engineering initiatives.\n",
      "\n",
      "Our team can assist in designing, planning, and executing engineering trials, analyzing results, and determining necessary actions for achieving program targets. We can also help in creating comprehensive technical documentation and collaborating with product development and functional engineering teams to commercialize product innovations.\n",
      "\n",
      "Some of our relevant portfolio highlights include:\n",
      "\n",
      "* Machine Learning and Python expertise: https://example.com/ml-python-portfolio\n",
      "* DevOps capabilities: https://example.com/devops-portfolio\n",
      "* Backend development using Kotlin: https://example.com/kotlin-backend-portfolio\n",
      "\n",
      "These showcases demonstrate our ability to develop and integrate complex systems, which can be applied to your footwear product engineering needs.\n",
      "\n",
      "I'd love to schedule a call to discuss how AtliQ can support your organization in driving innovation and efficiency. Please let me know if you're available for a conversation.\n",
      "\n",
      "Best regards,\n",
      "\n",
      "Mohan\n",
      "Business Development Executive\n",
      "AtliQ\n"
     ]
    }
   ],
   "source": [
    "prompt_email=PromptTemplate.from_template(\n",
    "    \"\"\"\n",
    "        ### JOB DESCRIPTION:\n",
    "        {job_description}\n",
    "        \n",
    "        ### INSTRUCTION:\n",
    "        You are Mohan, a business development executive at AtliQ. AtliQ is an AI & Software Consulting company dedicated to facilitating\n",
    "        the seamless integration of business processes through automated tools. \n",
    "        Over our experience, we have empowered numerous enterprises with tailored solutions, fostering scalability, \n",
    "        process optimization, cost reduction, and heightened overall efficiency. \n",
    "        Your job is to write a cold email to the client regarding the job mentioned above describing the capability of AtliQ \n",
    "        in fulfilling their needs.\n",
    "        Also add the most relevant ones from the following links to showcase Atliq's portfolio: {list}\n",
    "        Remember you are Mohan, BDE at AtliQ. \n",
    "        Do not provide a preamble.\n",
    "        ### EMAIL (NO PREAMBLE):\n",
    "        \n",
    "        \"\"\"\n",
    ")\n",
    "\n",
    "llm_chain=prompt_email|llm\n",
    "\n",
    "response=llm_chain.invoke({'job_description':str(json_output),'list':links})\n",
    "print(response.content)"
   ]
  }
 ],
 "metadata": {
  "kernelspec": {
   "display_name": "gorq",
   "language": "python",
   "name": "python3"
  },
  "language_info": {
   "codemirror_mode": {
    "name": "ipython",
    "version": 3
   },
   "file_extension": ".py",
   "mimetype": "text/x-python",
   "name": "python",
   "nbconvert_exporter": "python",
   "pygments_lexer": "ipython3",
   "version": "3.9.20"
  }
 },
 "nbformat": 4,
 "nbformat_minor": 2
}
